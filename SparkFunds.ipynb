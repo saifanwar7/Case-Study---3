{
 "cells": [
  {
   "cell_type": "markdown",
   "id": "88ba4f2c",
   "metadata": {},
   "source": [
    "# Spark Funds investment analysis"
   ]
  },
  {
   "cell_type": "markdown",
   "id": "cfb3d35f",
   "metadata": {},
   "source": [
    "### Spark Funds is an asset management company. It is looking for investment oppertunities based on the below criteria:\n",
    "##### 1. The popular investment type where most companies have invested\n",
    "##### 2. The countries, English speaking, where most companies have invested\n",
    "##### 3. The industry sectors where most companies have invested.\n",
    "##### 4. In amounts from 5 million to 15 million USD in each bucket"
   ]
  },
  {
   "cell_type": "markdown",
   "id": "dfd2c49c",
   "metadata": {},
   "source": [
    "### Dataset:\n",
    "##### We have three datasets as follows:\n",
    "##### 1. The companies list having company permalink, funding round permalink, name , category and country among other variables \n",
    "##### 2. The rounds2 list having company permalink, investment type , amount etc among other variables\n",
    "##### 3. The mapping list which have the industry vs category information"
   ]
  },
  {
   "cell_type": "markdown",
   "id": "f3539f3b",
   "metadata": {},
   "source": [
    "### Approach:\n",
    "##### I am going to follow the below steps as part of the analysis:\n",
    "##### 1. Get the files available in a diretory, check for the encoding type and then load it into a dataframe using pandas.\n",
    "##### 2. Analyse the data I have. Cleaning the data - understand if there are null values and what to do with them, check for errors in data, certain columns if required or not etc\n",
    "##### 3. Make a consolidated dataframe having only the information relevant to this analysis. This will help in focusing on my goals.\n",
    "##### 4. Check for outliers, undertand how they needs to be treated, what impact it has on our analysis.\n",
    "##### 5. Start the analysis with analysing the first requirement that is most invested investment type in the range of 5 million to 15 million USD\n",
    "##### 6. Analyse the top 9 countries where the above investment type holds the most investment amount\n",
    "##### 7. From the top 9 countries, we are going to check for top 3 countries, english speaking, who have the most investment.\n",
    "##### 8. Analyse the Industrial sector, counts, investment amounts and other information in these countries\n",
    "##### 9. Data Quality summary"
   ]
  },
  {
   "cell_type": "code",
   "execution_count": 76,
   "id": "f06adbcc",
   "metadata": {},
   "outputs": [],
   "source": [
    "#Import all Libraries needed for analysis\n",
    "import numpy as np\n",
    "import pandas as pd\n",
    "import matplotlib.pyplot as plt\n",
    "import seaborn as sns\n",
    "import datetime as dt\n",
    "import warnings\n",
    "warnings.filterwarnings('ignore')\n",
    "from numpy import median"
   ]
  },
  {
   "cell_type": "markdown",
   "id": "7b3e2ef7",
   "metadata": {},
   "source": [
    "#### 1. Loading files:"
   ]
  },
  {
   "cell_type": "code",
   "execution_count": 77,
   "id": "d5d77272",
   "metadata": {},
   "outputs": [],
   "source": [
    "#Read the data from csv to dataframe\n",
    "# I checked the unicode in notepad because it gave the most proper unicode format for the files\n",
    "# I can see that the companies and rounds2 files are encoded in 'ANSI' unicode format and mapping file in 'UTF-8'\n",
    "companies = pd.read_csv('C:\\\\Users\\\\saifr\\\\Documents\\\\Python Data files\\\\companies.csv',encoding='ANSI')\n",
    "rounds2 = pd.read_csv('C:\\\\Users\\\\saifr\\\\Documents\\\\Python Data files\\\\rounds2.csv',encoding='ANSI')\n",
    "mapping = pd.read_csv('C:\\\\Users\\\\saifr\\\\Documents\\\\Python Data files\\\\mapping.csv',encoding='UTF-8')"
   ]
  },
  {
   "cell_type": "code",
   "execution_count": 78,
   "id": "15fc8efb",
   "metadata": {
    "scrolled": false
   },
   "outputs": [
    {
     "data": {
      "text/html": [
       "<div>\n",
       "<style scoped>\n",
       "    .dataframe tbody tr th:only-of-type {\n",
       "        vertical-align: middle;\n",
       "    }\n",
       "\n",
       "    .dataframe tbody tr th {\n",
       "        vertical-align: top;\n",
       "    }\n",
       "\n",
       "    .dataframe thead th {\n",
       "        text-align: right;\n",
       "    }\n",
       "</style>\n",
       "<table border=\"1\" class=\"dataframe\">\n",
       "  <thead>\n",
       "    <tr style=\"text-align: right;\">\n",
       "      <th></th>\n",
       "      <th>permalink</th>\n",
       "      <th>name</th>\n",
       "      <th>homepage_url</th>\n",
       "      <th>category_list</th>\n",
       "      <th>status</th>\n",
       "      <th>country_code</th>\n",
       "      <th>state_code</th>\n",
       "      <th>region</th>\n",
       "      <th>city</th>\n",
       "      <th>founded_at</th>\n",
       "    </tr>\n",
       "  </thead>\n",
       "  <tbody>\n",
       "    <tr>\n",
       "      <th>0</th>\n",
       "      <td>/Organization/-Fame</td>\n",
       "      <td>#fame</td>\n",
       "      <td>http://livfame.com</td>\n",
       "      <td>Media</td>\n",
       "      <td>operating</td>\n",
       "      <td>IND</td>\n",
       "      <td>16</td>\n",
       "      <td>Mumbai</td>\n",
       "      <td>Mumbai</td>\n",
       "      <td>NaN</td>\n",
       "    </tr>\n",
       "    <tr>\n",
       "      <th>1</th>\n",
       "      <td>/Organization/-Qounter</td>\n",
       "      <td>:Qounter</td>\n",
       "      <td>http://www.qounter.com</td>\n",
       "      <td>Application Platforms|Real Time|Social Network...</td>\n",
       "      <td>operating</td>\n",
       "      <td>USA</td>\n",
       "      <td>DE</td>\n",
       "      <td>DE - Other</td>\n",
       "      <td>Delaware City</td>\n",
       "      <td>04-09-2014</td>\n",
       "    </tr>\n",
       "    <tr>\n",
       "      <th>2</th>\n",
       "      <td>/Organization/-The-One-Of-Them-Inc-</td>\n",
       "      <td>(THE) ONE of THEM,Inc.</td>\n",
       "      <td>http://oneofthem.jp</td>\n",
       "      <td>Apps|Games|Mobile</td>\n",
       "      <td>operating</td>\n",
       "      <td>NaN</td>\n",
       "      <td>NaN</td>\n",
       "      <td>NaN</td>\n",
       "      <td>NaN</td>\n",
       "      <td>NaN</td>\n",
       "    </tr>\n",
       "  </tbody>\n",
       "</table>\n",
       "</div>"
      ],
      "text/plain": [
       "                             permalink                    name  \\\n",
       "0                  /Organization/-Fame                   #fame   \n",
       "1               /Organization/-Qounter                :Qounter   \n",
       "2  /Organization/-The-One-Of-Them-Inc-  (THE) ONE of THEM,Inc.   \n",
       "\n",
       "             homepage_url                                      category_list  \\\n",
       "0      http://livfame.com                                              Media   \n",
       "1  http://www.qounter.com  Application Platforms|Real Time|Social Network...   \n",
       "2     http://oneofthem.jp                                  Apps|Games|Mobile   \n",
       "\n",
       "      status country_code state_code      region           city  founded_at  \n",
       "0  operating          IND         16      Mumbai         Mumbai         NaN  \n",
       "1  operating          USA         DE  DE - Other  Delaware City  04-09-2014  \n",
       "2  operating          NaN        NaN         NaN            NaN         NaN  "
      ]
     },
     "execution_count": 78,
     "metadata": {},
     "output_type": "execute_result"
    }
   ],
   "source": [
    "#checking how the data looks like at a glance for companies dataframe\n",
    "companies.head(3)"
   ]
  },
  {
   "cell_type": "code",
   "execution_count": 79,
   "id": "8a61c98c",
   "metadata": {
    "scrolled": false
   },
   "outputs": [
    {
     "data": {
      "text/html": [
       "<div>\n",
       "<style scoped>\n",
       "    .dataframe tbody tr th:only-of-type {\n",
       "        vertical-align: middle;\n",
       "    }\n",
       "\n",
       "    .dataframe tbody tr th {\n",
       "        vertical-align: top;\n",
       "    }\n",
       "\n",
       "    .dataframe thead th {\n",
       "        text-align: right;\n",
       "    }\n",
       "</style>\n",
       "<table border=\"1\" class=\"dataframe\">\n",
       "  <thead>\n",
       "    <tr style=\"text-align: right;\">\n",
       "      <th></th>\n",
       "      <th>company_permalink</th>\n",
       "      <th>funding_round_permalink</th>\n",
       "      <th>funding_round_type</th>\n",
       "      <th>funding_round_code</th>\n",
       "      <th>funded_at</th>\n",
       "      <th>raised_amount_usd</th>\n",
       "    </tr>\n",
       "  </thead>\n",
       "  <tbody>\n",
       "    <tr>\n",
       "      <th>0</th>\n",
       "      <td>/organization/-fame</td>\n",
       "      <td>/funding-round/9a01d05418af9f794eebff7ace91f638</td>\n",
       "      <td>venture</td>\n",
       "      <td>B</td>\n",
       "      <td>05-01-2015</td>\n",
       "      <td>10000000.0</td>\n",
       "    </tr>\n",
       "    <tr>\n",
       "      <th>1</th>\n",
       "      <td>/ORGANIZATION/-QOUNTER</td>\n",
       "      <td>/funding-round/22dacff496eb7acb2b901dec1dfe5633</td>\n",
       "      <td>venture</td>\n",
       "      <td>A</td>\n",
       "      <td>14-10-2014</td>\n",
       "      <td>NaN</td>\n",
       "    </tr>\n",
       "    <tr>\n",
       "      <th>2</th>\n",
       "      <td>/organization/-qounter</td>\n",
       "      <td>/funding-round/b44fbb94153f6cdef13083530bb48030</td>\n",
       "      <td>seed</td>\n",
       "      <td>NaN</td>\n",
       "      <td>01-03-2014</td>\n",
       "      <td>700000.0</td>\n",
       "    </tr>\n",
       "  </tbody>\n",
       "</table>\n",
       "</div>"
      ],
      "text/plain": [
       "        company_permalink                          funding_round_permalink  \\\n",
       "0     /organization/-fame  /funding-round/9a01d05418af9f794eebff7ace91f638   \n",
       "1  /ORGANIZATION/-QOUNTER  /funding-round/22dacff496eb7acb2b901dec1dfe5633   \n",
       "2  /organization/-qounter  /funding-round/b44fbb94153f6cdef13083530bb48030   \n",
       "\n",
       "  funding_round_type funding_round_code   funded_at  raised_amount_usd  \n",
       "0            venture                  B  05-01-2015         10000000.0  \n",
       "1            venture                  A  14-10-2014                NaN  \n",
       "2               seed                NaN  01-03-2014           700000.0  "
      ]
     },
     "execution_count": 79,
     "metadata": {},
     "output_type": "execute_result"
    }
   ],
   "source": [
    "#checking how the data looks like at a glance for rounds2 dataframe\n",
    "rounds2.head(3)"
   ]
  },
  {
   "cell_type": "code",
   "execution_count": 80,
   "id": "8c870062",
   "metadata": {},
   "outputs": [
    {
     "data": {
      "text/html": [
       "<div>\n",
       "<style scoped>\n",
       "    .dataframe tbody tr th:only-of-type {\n",
       "        vertical-align: middle;\n",
       "    }\n",
       "\n",
       "    .dataframe tbody tr th {\n",
       "        vertical-align: top;\n",
       "    }\n",
       "\n",
       "    .dataframe thead th {\n",
       "        text-align: right;\n",
       "    }\n",
       "</style>\n",
       "<table border=\"1\" class=\"dataframe\">\n",
       "  <thead>\n",
       "    <tr style=\"text-align: right;\">\n",
       "      <th></th>\n",
       "      <th>category_list</th>\n",
       "      <th>Automotive &amp; Sports</th>\n",
       "      <th>Blanks</th>\n",
       "      <th>Cleantech / Semiconductors</th>\n",
       "      <th>Entertainment</th>\n",
       "      <th>Health</th>\n",
       "      <th>Manufacturing</th>\n",
       "      <th>News, Search and Messaging</th>\n",
       "      <th>Others</th>\n",
       "      <th>Social, Finance, Analytics, Advertising</th>\n",
       "    </tr>\n",
       "  </thead>\n",
       "  <tbody>\n",
       "    <tr>\n",
       "      <th>0</th>\n",
       "      <td>NaN</td>\n",
       "      <td>0</td>\n",
       "      <td>1</td>\n",
       "      <td>0</td>\n",
       "      <td>0</td>\n",
       "      <td>0</td>\n",
       "      <td>0</td>\n",
       "      <td>0</td>\n",
       "      <td>0</td>\n",
       "      <td>0</td>\n",
       "    </tr>\n",
       "    <tr>\n",
       "      <th>1</th>\n",
       "      <td>3D</td>\n",
       "      <td>0</td>\n",
       "      <td>0</td>\n",
       "      <td>0</td>\n",
       "      <td>0</td>\n",
       "      <td>0</td>\n",
       "      <td>1</td>\n",
       "      <td>0</td>\n",
       "      <td>0</td>\n",
       "      <td>0</td>\n",
       "    </tr>\n",
       "    <tr>\n",
       "      <th>2</th>\n",
       "      <td>3D Printing</td>\n",
       "      <td>0</td>\n",
       "      <td>0</td>\n",
       "      <td>0</td>\n",
       "      <td>0</td>\n",
       "      <td>0</td>\n",
       "      <td>1</td>\n",
       "      <td>0</td>\n",
       "      <td>0</td>\n",
       "      <td>0</td>\n",
       "    </tr>\n",
       "  </tbody>\n",
       "</table>\n",
       "</div>"
      ],
      "text/plain": [
       "  category_list  Automotive & Sports  Blanks  Cleantech / Semiconductors  \\\n",
       "0           NaN                    0       1                           0   \n",
       "1            3D                    0       0                           0   \n",
       "2   3D Printing                    0       0                           0   \n",
       "\n",
       "   Entertainment  Health  Manufacturing  News, Search and Messaging  Others  \\\n",
       "0              0       0              0                           0       0   \n",
       "1              0       0              1                           0       0   \n",
       "2              0       0              1                           0       0   \n",
       "\n",
       "   Social, Finance, Analytics, Advertising  \n",
       "0                                        0  \n",
       "1                                        0  \n",
       "2                                        0  "
      ]
     },
     "execution_count": 80,
     "metadata": {},
     "output_type": "execute_result"
    }
   ],
   "source": [
    "#checking how the data looks like at a glance for mapping dataframe\n",
    "mapping.head(3)"
   ]
  },
  {
   "cell_type": "markdown",
   "id": "50f28036",
   "metadata": {},
   "source": [
    "#### 2. Data analysis:"
   ]
  },
  {
   "cell_type": "code",
   "execution_count": 81,
   "id": "4fd507b0",
   "metadata": {
    "scrolled": false
   },
   "outputs": [
    {
     "data": {
      "image/png": "[encoded data removed]",
      "text/plain": [
       "<Figure size 1152x288 with 2 Axes>"
      ]
     },
     "metadata": {
      "needs_background": "light"
     },
     "output_type": "display_data"
    }
   ],
   "source": [
    "#Let's have a look at the dataset that we have, how many null values\n",
    "plt.figure(figsize=[16,4])\n",
    "plt.subplot(1,2,1)\n",
    "((companies.isnull().sum()/companies.count())*100).plot.bar(color='red').set_title('Percentage of null values in the companies dataset')\n",
    "plt.ylabel('Percetage')\n",
    "plt.xlabel('Columns')\n",
    "plt.subplot(1,2,2)\n",
    "((rounds2.isnull().sum()/rounds2.funding_round_permalink.count())*100).plot.bar(color='red').set_title('Percentage of null values in the rounds2 dataset')\n",
    "plt.ylabel('Percetage')\n",
    "plt.xlabel('Columns')\n",
    "plt.show()"
   ]
  },
  {
   "cell_type": "markdown",
   "id": "507dbd5e",
   "metadata": {},
   "source": [
    "##### What we can see in the companies files is that the permalink can be used as a unique identifier as it is distinct and represent a company"
   ]
  },
  {
   "cell_type": "code",
   "execution_count": 82,
   "id": "f7675045",
   "metadata": {},
   "outputs": [
    {
     "data": {
      "text/plain": [
       "66368"
      ]
     },
     "execution_count": 82,
     "metadata": {},
     "output_type": "execute_result"
    }
   ],
   "source": [
    "# To find the number of unique companies from the companies dataset\n",
    "# This will give us the idea about the companies, categories they belong, the region they are based out of and so on.\n",
    "companies.permalink.str.lower().nunique()"
   ]
  },
  {
   "cell_type": "code",
   "execution_count": 83,
   "id": "08682707",
   "metadata": {},
   "outputs": [
    {
     "data": {
      "text/plain": [
       "137"
      ]
     },
     "execution_count": 83,
     "metadata": {},
     "output_type": "execute_result"
    }
   ],
   "source": [
    "# Find number of countries\n",
    "companies['country_code'].nunique()"
   ]
  },
  {
   "cell_type": "code",
   "execution_count": 84,
   "id": "960495a5",
   "metadata": {
    "scrolled": true
   },
   "outputs": [
    {
     "data": {
      "text/plain": [
       "66368"
      ]
     },
     "execution_count": 84,
     "metadata": {},
     "output_type": "execute_result"
    }
   ],
   "source": [
    "# To find the number of unique companies from the rounds2 dataset\n",
    "# This will give us the companies and their investment patterns in the past\n",
    "rounds2.company_permalink.str.lower().nunique()"
   ]
  },
  {
   "cell_type": "code",
   "execution_count": 85,
   "id": "8d6d685f",
   "metadata": {},
   "outputs": [
    {
     "data": {
      "text/plain": [
       "114949"
      ]
     },
     "execution_count": 85,
     "metadata": {},
     "output_type": "execute_result"
    }
   ],
   "source": [
    "# Find the unique funding rounds to understand unique fundings to each companies\n",
    "rounds2['funding_round_permalink'].nunique()"
   ]
  },
  {
   "cell_type": "code",
   "execution_count": 86,
   "id": "4f7162ad",
   "metadata": {
    "scrolled": true
   },
   "outputs": [
    {
     "data": {
      "text/plain": [
       "14"
      ]
     },
     "execution_count": 86,
     "metadata": {},
     "output_type": "execute_result"
    }
   ],
   "source": [
    "# Find unique funding type\n",
    "rounds2['funding_round_type'].nunique()"
   ]
  },
  {
   "cell_type": "markdown",
   "id": "15b5302a",
   "metadata": {},
   "source": [
    "##### We can see that the numbers are the same for both the files meaning same number of companies are there in both the files."
   ]
  },
  {
   "cell_type": "code",
   "execution_count": 87,
   "id": "48e9fd6b",
   "metadata": {
    "scrolled": false
   },
   "outputs": [
    {
     "data": {
      "text/plain": [
       "company_permalink          0\n",
       "funding_round_permalink    0\n",
       "funding_round_type         0\n",
       "funding_round_code         0\n",
       "funded_at                  0\n",
       "raised_amount_usd          0\n",
       "dtype: int64"
      ]
     },
     "execution_count": 87,
     "metadata": {},
     "output_type": "execute_result"
    }
   ],
   "source": [
    "# Here we are checking if there are any companies in rounds2 dataset that are not in companies dataset.\n",
    "rounds2[rounds2.company_permalink.str.lower().isin(companies.permalink.str.lower()) == False].count()"
   ]
  },
  {
   "cell_type": "markdown",
   "id": "833d145d",
   "metadata": {},
   "source": [
    "##### We can see, all the companies that are in rounds2 are there in the companies dataset"
   ]
  },
  {
   "cell_type": "code",
   "execution_count": 88,
   "id": "17b8aa4d",
   "metadata": {},
   "outputs": [],
   "source": [
    "# Since there are a few companies that are case modified, we are going to convert them to a fixed case so that they are all in the same case\n",
    "#Converting the key values(company permalink) into one case (lower) to eliminate duplicates\n",
    "rounds2['company_permalink'] = rounds2['company_permalink'].str.lower()\n",
    "companies['permalink'] = companies['permalink'].str.lower()"
   ]
  },
  {
   "cell_type": "markdown",
   "id": "c32f1491",
   "metadata": {},
   "source": [
    "#### 3. Merging the data"
   ]
  },
  {
   "cell_type": "code",
   "execution_count": 89,
   "id": "35a9c78c",
   "metadata": {},
   "outputs": [],
   "source": [
    "# Merge the two datasets companies and rounds2 based on the key - company permalink\n",
    "# We are merging the two datasets based on a left outer join on rounds2 on the company permalink\n",
    "master_frame = pd.merge(rounds2,companies,how='left',left_on='company_permalink',right_on='permalink')"
   ]
  },
  {
   "cell_type": "markdown",
   "id": "77640045",
   "metadata": {},
   "source": [
    "##### This will give us a master file having all the columns in both companies and rounds2 datasets linked together by a common key - company permalink"
   ]
  },
  {
   "cell_type": "code",
   "execution_count": 90,
   "id": "bd4f0feb",
   "metadata": {},
   "outputs": [
    {
     "data": {
      "text/plain": [
       "(114949, 16)"
      ]
     },
     "execution_count": 90,
     "metadata": {},
     "output_type": "execute_result"
    }
   ],
   "source": [
    "# We can now check for the number of rows we have for our analysis. For that we are using shape on our master dataset\n",
    "master_frame.shape"
   ]
  },
  {
   "cell_type": "markdown",
   "id": "9dc10aa3",
   "metadata": {},
   "source": [
    "##### There are a few columns in the master dataset that are not relevant to the analysis we are doing in this case. So we are going to drop all the columns that we do not need for our analysis so that we can focus more on the elements that we need to analyse"
   ]
  },
  {
   "cell_type": "code",
   "execution_count": 91,
   "id": "1a729f3d",
   "metadata": {},
   "outputs": [],
   "source": [
    "# Dropping all columns that we do not need for this analysis\n",
    "master_frame.drop(['funding_round_code','funded_at','permalink','homepage_url','state_code','region','city','founded_at'],inplace=True,axis=1)"
   ]
  },
  {
   "cell_type": "code",
   "execution_count": 92,
   "id": "e37d1c22",
   "metadata": {
    "scrolled": true
   },
   "outputs": [
    {
     "name": "stdout",
     "output_type": "stream",
     "text": [
      "<class 'pandas.core.frame.DataFrame'>\n",
      "Int64Index: 114949 entries, 0 to 114948\n",
      "Data columns (total 8 columns):\n",
      " #   Column                   Non-Null Count   Dtype  \n",
      "---  ------                   --------------   -----  \n",
      " 0   company_permalink        114949 non-null  object \n",
      " 1   funding_round_permalink  114949 non-null  object \n",
      " 2   funding_round_type       114949 non-null  object \n",
      " 3   raised_amount_usd        94959 non-null   float64\n",
      " 4   name                     114948 non-null  object \n",
      " 5   category_list            111539 non-null  object \n",
      " 6   status                   114949 non-null  object \n",
      " 7   country_code             106271 non-null  object \n",
      "dtypes: float64(1), object(7)\n",
      "memory usage: 7.9+ MB\n"
     ]
    }
   ],
   "source": [
    "# So now we have a dataset having the columns that we need for analysis.\n",
    "master_frame.info()"
   ]
  },
  {
   "cell_type": "markdown",
   "id": "3e72d6b3",
   "metadata": {},
   "source": [
    "#### Once we have the master dataset with the columns that we need, now we need to check for null values in the dataset"
   ]
  },
  {
   "cell_type": "code",
   "execution_count": 93,
   "id": "1b5ca973",
   "metadata": {
    "scrolled": false
   },
   "outputs": [
    {
     "data": {
      "text/plain": [
       "company_permalink           0.0\n",
       "funding_round_permalink     0.0\n",
       "funding_round_type          0.0\n",
       "raised_amount_usd          17.0\n",
       "name                        0.0\n",
       "category_list               3.0\n",
       "status                      0.0\n",
       "country_code                8.0\n",
       "dtype: float64"
      ]
     },
     "execution_count": 93,
     "metadata": {},
     "output_type": "execute_result"
    }
   ],
   "source": [
    "#check for null values across columns in percentage of total values\n",
    "round((master_frame.isnull().sum()/len(master_frame.index))*100)"
   ]
  },
  {
   "cell_type": "code",
   "execution_count": 94,
   "id": "b3b7f907",
   "metadata": {},
   "outputs": [
    {
     "data": {
      "image/png": "[encoded data removed]",
      "text/plain": [
       "<Figure size 432x288 with 1 Axes>"
      ]
     },
     "metadata": {
      "needs_background": "light"
     },
     "output_type": "display_data"
    }
   ],
   "source": [
    "# Graph for null values across columns in percentage of total values\n",
    "((master_frame.isnull().sum()/master_frame.funding_round_permalink.count())*100).plot.bar(color='red').set_title('Percentage of null values in the master_frame dataset')\n",
    "plt.ylabel('Percetage')\n",
    "plt.xlabel('Columns')\n",
    "plt.show()"
   ]
  },
  {
   "cell_type": "markdown",
   "id": "7656e0c0",
   "metadata": {},
   "source": [
    "##### We can observe that the column raised_amount_usd is having 17% of null value in the dataset. We are analysing the raised amount for different investment types and thus it is necessary that we have a dataset with amounts not equal to null. So, as part of this analysis, we are going to eliminate the rows with null values in raised amount"
   ]
  },
  {
   "cell_type": "code",
   "execution_count": 95,
   "id": "c3fc3580",
   "metadata": {},
   "outputs": [],
   "source": [
    "#Delete rows with null values for raised_amount_usd column\n",
    "master_frame = master_frame[~(master_frame.raised_amount_usd.isnull())]"
   ]
  },
  {
   "cell_type": "code",
   "execution_count": 96,
   "id": "642a26f0",
   "metadata": {
    "scrolled": false
   },
   "outputs": [
    {
     "data": {
      "image/png": "[encoded data removed]",
      "text/plain": [
       "<Figure size 432x288 with 1 Axes>"
      ]
     },
     "metadata": {
      "needs_background": "light"
     },
     "output_type": "display_data"
    }
   ],
   "source": [
    "# Checking the dataframe information\n",
    "((master_frame.isnull().sum()/master_frame.funding_round_permalink.count())*100).plot.bar(color='red').set_title('Percentage of null values in the master_frame dataset after dropping rows with null amount raised')\n",
    "plt.ylabel('Percetage')\n",
    "plt.xlabel('Columns')\n",
    "plt.show()"
   ]
  },
  {
   "cell_type": "markdown",
   "id": "cdf91e06",
   "metadata": {},
   "source": [
    "##### So now we have a dataset that we can use for our analysis of investment type according to our investment criteria. Let's have a look at those investment types that the companies have mostly invested in"
   ]
  },
  {
   "cell_type": "code",
   "execution_count": 97,
   "id": "b1ff6f90",
   "metadata": {
    "scrolled": false
   },
   "outputs": [
    {
     "data": {
      "image/png": "[encoded data removed]",
      "text/plain": [
       "<Figure size 864x216 with 1 Axes>"
      ]
     },
     "metadata": {
      "needs_background": "light"
     },
     "output_type": "display_data"
    }
   ],
   "source": [
    "# Investment types that companies have invested in\n",
    "plt.figure(figsize=[12,3])\n",
    "master_frame['funding_round_type'].value_counts().plot.bar(color='green').set_title('Distribution of investments across investment types')\n",
    "plt.xlabel('Investment type')\n",
    "plt.ylabel('Count')\n",
    "plt.show()"
   ]
  },
  {
   "cell_type": "markdown",
   "id": "cf70d70d",
   "metadata": {},
   "source": [
    "#### 4. Check for outliers:"
   ]
  },
  {
   "cell_type": "markdown",
   "id": "2ecc0f51",
   "metadata": {},
   "source": [
    "##### From the above plot, we can see that the most suited investment for companies is the 'venture' type followed by 'seed', 'angel' and other investment types"
   ]
  },
  {
   "cell_type": "markdown",
   "id": "949ab7b5",
   "metadata": {},
   "source": [
    "##### In the given dataset, in the amount raised columns, we can see that there are values in a wide variety of range. Let's have a look at the distribution of amounts for the four specified investment types"
   ]
  },
  {
   "cell_type": "code",
   "execution_count": 98,
   "id": "774ef8df",
   "metadata": {
    "scrolled": true
   },
   "outputs": [
    {
     "data": {
      "image/png": "[encoded data removed]",
      "text/plain": [
       "<Figure size 1152x216 with 1 Axes>"
      ]
     },
     "metadata": {
      "needs_background": "light"
     },
     "output_type": "display_data"
    }
   ],
   "source": [
    "plt.figure(figsize=[16,3])\n",
    "sns.boxplot(y='raised_amount_usd',x='funding_round_type',data=master_frame[(master_frame['funding_round_type'].isin(['venture','seed','angel','private_equity']))]).set_title('Distribution of amounts investmented across different investment types')\n",
    "plt.xlabel('Funding round Type')\n",
    "plt.ylabel('Raised amount in USD')\n",
    "plt.show()"
   ]
  },
  {
   "cell_type": "code",
   "execution_count": 99,
   "id": "ec63faad",
   "metadata": {},
   "outputs": [],
   "source": [
    "# Total amounts invested in companies in funding types - Venture, Seed, Angel and Private Equity:\n",
    "master_frame_T1 = master_frame[master_frame['funding_round_type'].isin(['venture','seed','angel','private_equity'])].groupby(by=['funding_round_type'])['raised_amount_usd'].agg(['sum']).reset_index()"
   ]
  },
  {
   "cell_type": "code",
   "execution_count": 100,
   "id": "3cfbf15c",
   "metadata": {},
   "outputs": [
    {
     "data": {
      "image/png": "[encoded data removed]",
      "text/plain": [
       "<Figure size 360x360 with 1 Axes>"
      ]
     },
     "metadata": {},
     "output_type": "display_data"
    }
   ],
   "source": [
    "# Graph showing the total aount of investment in the four investment types\n",
    "plt.figure(figsize=[5,5])\n",
    "colors = ['lightskyblue', 'red', 'blue', 'green']\n",
    "explode =(0,0.1,0,0.1) \n",
    "plt.pie(master_frame_T1['sum'],labels=master_frame_T1['funding_round_type'],explode = explode, shadow=True)\n",
    "plt.title('Amount of investment in the four investment types')\n",
    "plt.show()"
   ]
  },
  {
   "cell_type": "code",
   "execution_count": 144,
   "id": "abd0c9bb",
   "metadata": {
    "scrolled": true
   },
   "outputs": [
    {
     "data": {
      "text/html": [
       "<div>\n",
       "<style scoped>\n",
       "    .dataframe tbody tr th:only-of-type {\n",
       "        vertical-align: middle;\n",
       "    }\n",
       "\n",
       "    .dataframe tbody tr th {\n",
       "        vertical-align: top;\n",
       "    }\n",
       "\n",
       "    .dataframe thead th {\n",
       "        text-align: right;\n",
       "    }\n",
       "</style>\n",
       "<table border=\"1\" class=\"dataframe\">\n",
       "  <thead>\n",
       "    <tr style=\"text-align: right;\">\n",
       "      <th></th>\n",
       "      <th>funding_round_type</th>\n",
       "      <th>sum</th>\n",
       "    </tr>\n",
       "  </thead>\n",
       "  <tbody>\n",
       "    <tr>\n",
       "      <th>0</th>\n",
       "      <td>angel</td>\n",
       "      <td>4.659255e+09</td>\n",
       "    </tr>\n",
       "    <tr>\n",
       "      <th>1</th>\n",
       "      <td>private_equity</td>\n",
       "      <td>1.419254e+11</td>\n",
       "    </tr>\n",
       "    <tr>\n",
       "      <th>2</th>\n",
       "      <td>seed</td>\n",
       "      <td>1.698986e+10</td>\n",
       "    </tr>\n",
       "    <tr>\n",
       "      <th>3</th>\n",
       "      <td>venture</td>\n",
       "      <td>5.901262e+11</td>\n",
       "    </tr>\n",
       "  </tbody>\n",
       "</table>\n",
       "</div>"
      ],
      "text/plain": [
       "  funding_round_type           sum\n",
       "0              angel  4.659255e+09\n",
       "1     private_equity  1.419254e+11\n",
       "2               seed  1.698986e+10\n",
       "3            venture  5.901262e+11"
      ]
     },
     "execution_count": 144,
     "metadata": {},
     "output_type": "execute_result"
    }
   ],
   "source": [
    "#Lets have a look at the numbers for the above graph\n",
    "master_frame_T1"
   ]
  },
  {
   "cell_type": "markdown",
   "id": "ea9bdee9",
   "metadata": {},
   "source": [
    "#### 5. Investment type analysis:"
   ]
  },
  {
   "cell_type": "markdown",
   "id": "148e196c",
   "metadata": {},
   "source": [
    "#### Now we can say that the representative amount would be the amount that is midway of all the investments concentrated at a point, considering there are a few extreme outliers. By this I mean that we can analyse the median of these amounts invested in these investment types to check for the representative value for each of the investment types. "
   ]
  },
  {
   "cell_type": "markdown",
   "id": "c0ccf04e",
   "metadata": {},
   "source": [
    "#### Let's have a look at the representative investment amounts for the four investment types - 'venture','angel','seed' and 'private_equity'. For this, we are going to check for the mean and median value of raised amounts for each of these investment types. I am going to check for which amount (mean or median) can be used as the representative value."
   ]
  },
  {
   "cell_type": "markdown",
   "id": "1c980ba8",
   "metadata": {},
   "source": [
    "##### Let's have a look at the values of the representative amounts for these investment types and then plot the graph"
   ]
  },
  {
   "cell_type": "code",
   "execution_count": 102,
   "id": "46e50fef",
   "metadata": {},
   "outputs": [
    {
     "name": "stdout",
     "output_type": "stream",
     "text": [
      "Representative (Median) amount for seed (USD) : 275000\n",
      "Representative (Mean) amount for seed (USD) : 719818\n",
      "Representative (Median) amount for venture (USD) : 5000000\n",
      "Representative (Mean) amount for venture (USD) : 11748949\n",
      "Representative (Median) amount for angel (USD) : 400000\n",
      "Representative (Mean) amount for angel (USD) : 958694\n",
      "Representative (Median) amount for private_equity (USD) : 20000000\n",
      "Representative (Mean) amount for private_equity (USD) : 73308593\n"
     ]
    }
   ],
   "source": [
    "print('Representative (Median) amount for seed (USD) :',round(master_frame[master_frame.funding_round_type == 'seed']['raised_amount_usd'].median()))\n",
    "print('Representative (Mean) amount for seed (USD) :',round(master_frame[master_frame.funding_round_type == 'seed']['raised_amount_usd'].mean()))\n",
    "print('Representative (Median) amount for venture (USD) :',round(master_frame[master_frame.funding_round_type == 'venture']['raised_amount_usd'].median()))\n",
    "print('Representative (Mean) amount for venture (USD) :',round(master_frame[master_frame.funding_round_type == 'venture']['raised_amount_usd'].mean()))\n",
    "print('Representative (Median) amount for angel (USD) :',round(master_frame[master_frame.funding_round_type == 'angel']['raised_amount_usd'].median()))\n",
    "print('Representative (Mean) amount for angel (USD) :',round(master_frame[master_frame.funding_round_type == 'angel']['raised_amount_usd'].mean()))\n",
    "print('Representative (Median) amount for private_equity (USD) :',round(master_frame[master_frame.funding_round_type == 'private_equity']['raised_amount_usd'].median()))\n",
    "print('Representative (Mean) amount for private_equity (USD) :',round(master_frame[master_frame.funding_round_type == 'private_equity']['raised_amount_usd'].mean()))"
   ]
  },
  {
   "cell_type": "markdown",
   "id": "98e5bf0c",
   "metadata": {},
   "source": [
    "#### From the above numbers, we can see there is a very high difference between the mean and the median value of each of the investment types. This is because of the extreme high outliers values that each of these investments have. Thus, for our analysis, we are going to consider the median as the representative amount."
   ]
  },
  {
   "cell_type": "markdown",
   "id": "486d0434",
   "metadata": {},
   "source": [
    "#### According to our analysis, we have to check for investment amounts that are in 5 million to 15 million USD. Let's plot a line in our graph so that we can check for the investment types that are in our criteria"
   ]
  },
  {
   "cell_type": "code",
   "execution_count": 103,
   "id": "0a14c656",
   "metadata": {
    "scrolled": false
   },
   "outputs": [
    {
     "data": {
      "image/png": "[encoded data removed]",
      "text/plain": [
       "<Figure size 792x288 with 1 Axes>"
      ]
     },
     "metadata": {
      "needs_background": "light"
     },
     "output_type": "display_data"
    }
   ],
   "source": [
    "# Representative(median) across investment types\n",
    "plt.figure(figsize=[11,4])\n",
    "sns.boxplot(data=master_frame[master_frame['funding_round_type'].isin(['venture','seed','angel','private_equity'])],x=\"funding_round_type\",y=\"raised_amount_usd\",palette=('magma')).set_title('Distribution of representative amount of investments across different investment types')\n",
    "plt.axhline(y=5000000, linewidth=1)\n",
    "plt.axhline(y=15000000, linewidth=1)\n",
    "plt.ylim(0,100000000)\n",
    "plt.xlabel('Investment type')\n",
    "plt.ylabel('Representative (Median) amount in USD')\n",
    "plt.show()"
   ]
  },
  {
   "cell_type": "markdown",
   "id": "2c11a0bb",
   "metadata": {},
   "source": [
    "##### From the above graph, we can see that 'venture' investment representative amount falls between the 5 and 15 million USD bucket that Spark Funds would be most interested in to invest. Seed and angel investments have a much lower representative amount compared to the investment bracket and private equity has a much higher representative amount"
   ]
  },
  {
   "cell_type": "markdown",
   "id": "3f41cf27",
   "metadata": {},
   "source": [
    "#### So now we are going to filter the master data with investment type 'venture' to proceed with our next analysis"
   ]
  },
  {
   "cell_type": "code",
   "execution_count": 104,
   "id": "9075b65d",
   "metadata": {},
   "outputs": [],
   "source": [
    "# Filtering master frame with data having investment type 'venture' only\n",
    "master_frame = master_frame[master_frame['funding_round_type'] =='venture']"
   ]
  },
  {
   "cell_type": "code",
   "execution_count": 105,
   "id": "d81886b8",
   "metadata": {
    "scrolled": true
   },
   "outputs": [
    {
     "data": {
      "text/plain": [
       "(50228, 8)"
      ]
     },
     "execution_count": 105,
     "metadata": {},
     "output_type": "execute_result"
    }
   ],
   "source": [
    "#Checking for the volume of data in the master frame\n",
    "master_frame.shape"
   ]
  },
  {
   "cell_type": "markdown",
   "id": "68b40c73",
   "metadata": {},
   "source": [
    "#### Now let's have a look at the countries information in the dataset on where the investments were made the most"
   ]
  },
  {
   "cell_type": "code",
   "execution_count": 106,
   "id": "4455dfb7",
   "metadata": {
    "scrolled": false
   },
   "outputs": [
    {
     "data": {
      "text/plain": [
       "country_code\n",
       "USA    4.225108e+11\n",
       "CHN    3.983542e+10\n",
       "GBR    2.024563e+10\n",
       "IND    1.439186e+10\n",
       "CAN    9.583332e+09\n",
       "           ...     \n",
       "MCO    6.570000e+05\n",
       "SAU    5.000000e+05\n",
       "CMR    3.595610e+05\n",
       "GTM    3.000000e+05\n",
       "MMR    2.000000e+05\n",
       "Name: raised_amount_usd, Length: 97, dtype: float64"
      ]
     },
     "execution_count": 106,
     "metadata": {},
     "output_type": "execute_result"
    }
   ],
   "source": [
    "# Below is the list of total fundings received grouped by countries across all sectors for venture investment type\n",
    "master_frame.groupby(by=['country_code'])['raised_amount_usd'].sum().sort_values(ascending=False)"
   ]
  },
  {
   "cell_type": "markdown",
   "id": "2f9cfd12",
   "metadata": {},
   "source": [
    "#### 6. Top 9 country analysis:"
   ]
  },
  {
   "cell_type": "code",
   "execution_count": 107,
   "id": "ceccd4d7",
   "metadata": {
    "scrolled": true
   },
   "outputs": [
    {
     "data": {
      "image/png": "[encoded data removed]",
      "text/plain": [
       "<Figure size 864x216 with 1 Axes>"
      ]
     },
     "metadata": {
      "needs_background": "light"
     },
     "output_type": "display_data"
    }
   ],
   "source": [
    "# Considering the top 9 Total investment, lets have a look at the graph as below \n",
    "plt.figure(figsize=[12,3])\n",
    "top9 = master_frame.groupby(by='country_code').sum().sort_values('raised_amount_usd',ascending=False).iloc[:9,]\n",
    "top9.reset_index(level=0,inplace=True)\n",
    "sns.barplot(x=top9['country_code'],y=top9['raised_amount_usd'],palette=('crest')).set_title('Top 9 most invested countries')\n",
    "plt.ylabel('Raised amount in USD')\n",
    "plt.xlabel('Country code')\n",
    "plt.show()"
   ]
  },
  {
   "cell_type": "code",
   "execution_count": 108,
   "id": "da709275",
   "metadata": {},
   "outputs": [
    {
     "data": {
      "image/png": "[encoded data removed]",
      "text/plain": [
       "<Figure size 720x288 with 1 Axes>"
      ]
     },
     "metadata": {
      "needs_background": "light"
     },
     "output_type": "display_data"
    }
   ],
   "source": [
    "# Check for countries where one of the official langiage is English\n",
    "plt.figure(figsize=[10,4])\n",
    "top9['English'] = top9['country_code'].isin(['USA','GBR','IND','CAN'])\n",
    "chk = sns.barplot(x='country_code',y='raised_amount_usd',hue='English',data=top9,dodge=False,palette='Set2').set_title('Top 9 most invested countries - English or Non-English speaking')\n",
    "plt.ylabel('Raised amount in USD')\n",
    "plt.xlabel('Country code')\n",
    "plt.show()"
   ]
  },
  {
   "cell_type": "markdown",
   "id": "f2d0bfac",
   "metadata": {},
   "source": [
    "#### Now that we have the investment type and country analysed for Spark Funds investment, let's have a look at the categories that are available in the master frame dataset"
   ]
  },
  {
   "cell_type": "code",
   "execution_count": 109,
   "id": "de00236d",
   "metadata": {
    "scrolled": true
   },
   "outputs": [
    {
     "data": {
      "text/html": [
       "<div>\n",
       "<style scoped>\n",
       "    .dataframe tbody tr th:only-of-type {\n",
       "        vertical-align: middle;\n",
       "    }\n",
       "\n",
       "    .dataframe tbody tr th {\n",
       "        vertical-align: top;\n",
       "    }\n",
       "\n",
       "    .dataframe thead th {\n",
       "        text-align: right;\n",
       "    }\n",
       "</style>\n",
       "<table border=\"1\" class=\"dataframe\">\n",
       "  <thead>\n",
       "    <tr style=\"text-align: right;\">\n",
       "      <th></th>\n",
       "      <th>company_permalink</th>\n",
       "      <th>funding_round_permalink</th>\n",
       "      <th>funding_round_type</th>\n",
       "      <th>raised_amount_usd</th>\n",
       "      <th>name</th>\n",
       "      <th>category_list</th>\n",
       "      <th>status</th>\n",
       "      <th>country_code</th>\n",
       "    </tr>\n",
       "  </thead>\n",
       "  <tbody>\n",
       "    <tr>\n",
       "      <th>99</th>\n",
       "      <td>/organization/123feng-com</td>\n",
       "      <td>/funding-round/9d83084d87dc63a309c9a6fe9bf59d1b</td>\n",
       "      <td>venture</td>\n",
       "      <td>13000000.0</td>\n",
       "      <td>123Feng.Com</td>\n",
       "      <td>NaN</td>\n",
       "      <td>operating</td>\n",
       "      <td>CHN</td>\n",
       "    </tr>\n",
       "    <tr>\n",
       "      <th>133</th>\n",
       "      <td>/organization/17-media</td>\n",
       "      <td>/funding-round/f8ffde9fa822843ac6ea9b66cc615df1</td>\n",
       "      <td>venture</td>\n",
       "      <td>10000000.0</td>\n",
       "      <td>17 Media</td>\n",
       "      <td>NaN</td>\n",
       "      <td>operating</td>\n",
       "      <td>NaN</td>\n",
       "    </tr>\n",
       "    <tr>\n",
       "      <th>181</th>\n",
       "      <td>/organization/1mxians</td>\n",
       "      <td>/funding-round/6950448f81c6706abe61f659e15a7c87</td>\n",
       "      <td>venture</td>\n",
       "      <td>15000000.0</td>\n",
       "      <td>1mxians</td>\n",
       "      <td>NaN</td>\n",
       "      <td>operating</td>\n",
       "      <td>CHN</td>\n",
       "    </tr>\n",
       "  </tbody>\n",
       "</table>\n",
       "</div>"
      ],
      "text/plain": [
       "             company_permalink  \\\n",
       "99   /organization/123feng-com   \n",
       "133     /organization/17-media   \n",
       "181      /organization/1mxians   \n",
       "\n",
       "                             funding_round_permalink funding_round_type  \\\n",
       "99   /funding-round/9d83084d87dc63a309c9a6fe9bf59d1b            venture   \n",
       "133  /funding-round/f8ffde9fa822843ac6ea9b66cc615df1            venture   \n",
       "181  /funding-round/6950448f81c6706abe61f659e15a7c87            venture   \n",
       "\n",
       "     raised_amount_usd         name category_list     status country_code  \n",
       "99          13000000.0  123Feng.Com           NaN  operating          CHN  \n",
       "133         10000000.0     17 Media           NaN  operating          NaN  \n",
       "181         15000000.0      1mxians           NaN  operating          CHN  "
      ]
     },
     "execution_count": 109,
     "metadata": {},
     "output_type": "execute_result"
    }
   ],
   "source": [
    "# Checking null value in the category list\n",
    "master_frame[master_frame['category_list'].isnull() == True].head(3)"
   ]
  },
  {
   "cell_type": "code",
   "execution_count": 110,
   "id": "020a3857",
   "metadata": {},
   "outputs": [
    {
     "data": {
      "text/plain": [
       "1"
      ]
     },
     "execution_count": 110,
     "metadata": {},
     "output_type": "execute_result"
    }
   ],
   "source": [
    "# Checking null value % in the category list\n",
    "round((master_frame['category_list'].isnull().sum())/(master_frame['category_list'].count())*100)"
   ]
  },
  {
   "cell_type": "markdown",
   "id": "0f088b77",
   "metadata": {},
   "source": [
    "##### So we can see that 1% of the master frame dataset have no category information"
   ]
  },
  {
   "cell_type": "markdown",
   "id": "4bda8b6b",
   "metadata": {},
   "source": [
    "#### For our analysis we can either drop the null rows for the Category column or keep it and continue with our analysis. For now, we are going to keep the null values and continue with our analysis"
   ]
  },
  {
   "cell_type": "markdown",
   "id": "59dcbcf4",
   "metadata": {},
   "source": [
    "#### Let's now derive a new column 'primary_sector' from 'category_list' based on the first value in the 'category_list' column before the separator '|'"
   ]
  },
  {
   "cell_type": "code",
   "execution_count": 111,
   "id": "68b4e2e3",
   "metadata": {},
   "outputs": [],
   "source": [
    "# Deriving new column(primary_sector) based on existing column(category_list)\n",
    "master_frame['primary_sector'] = master_frame['category_list'].map(lambda x:x.split('|')[0] if type(x) == str else x)"
   ]
  },
  {
   "cell_type": "code",
   "execution_count": 112,
   "id": "ffa765ff",
   "metadata": {},
   "outputs": [],
   "source": [
    "# Modifying the mapping dataset into a two dimentional table structure using melt function to map with master frame dataset\n",
    "mapping = pd.melt(mapping, id_vars =['category_list'], value_vars =['Automotive & Sports','Blanks','Cleantech / Semiconductors','Entertainment','Health','Manufacturing','News, Search and Messaging','Others','Social, Finance, Analytics, Advertising']) "
   ]
  },
  {
   "cell_type": "code",
   "execution_count": 113,
   "id": "54440079",
   "metadata": {},
   "outputs": [],
   "source": [
    "# Keeping the ones with value 1 so that all the zeros are removed from the mapping table\n",
    "mapping = mapping[mapping.value == 1]"
   ]
  },
  {
   "cell_type": "code",
   "execution_count": 114,
   "id": "9c0b2ef6",
   "metadata": {},
   "outputs": [],
   "source": [
    "# In the mapping dataset, we can see there are a few values that are not correct like 'Knowledge Ma0gement' should be 'Knowledge Management\n",
    "# So we see a common error of having '0' in place of 'na' in between words. We also have to make sure that 0 is there where it should be.\n",
    "# Replacing '0' by 'na' in the category_list column\n",
    "mapping['category_list'] = mapping['category_list'].str.replace('0','na',regex=True)\n",
    "# Replacing '2.na' by '2.0' because 2.0 was the actual string that got replaced by na in place of '0'\n",
    "mapping['category_list'] = mapping['category_list'].str.replace('2.na','2.0',regex=True)"
   ]
  },
  {
   "cell_type": "markdown",
   "id": "9cef7c9c",
   "metadata": {},
   "source": [
    "##### While we are replacing the incorrect '0' in the string, there are a few column values where the replacement needs to be in the correct case as well in order to map the value with the masterframe. For example, 'Nanotechnology' is a catogory in master frame dataset but that is 'nanotechnology' in the category in mapping dataset. This case of the first 'n' needs to be corrected before mapping the values to avoid incorrect mapping"
   ]
  },
  {
   "cell_type": "code",
   "execution_count": 115,
   "id": "347caac8",
   "metadata": {},
   "outputs": [],
   "source": [
    "#Updating column values with mapping values from master frame dataset to map properly\n",
    "mapping['category_list'] = mapping['category_list'].str.replace('nanotechnology','Nanotechnology',regex=True)\n",
    "mapping['category_list'] = mapping['category_list'].str.replace('natural','Natural',regex=True)\n",
    "mapping['category_list'] = mapping['category_list'].str.replace('navigation','Navigation',regex=True)"
   ]
  },
  {
   "cell_type": "code",
   "execution_count": 116,
   "id": "e6493f4d",
   "metadata": {},
   "outputs": [],
   "source": [
    "# Dropping the value column as we do not need it for our analysis\n",
    "mapping.drop(columns='value',inplace=True)"
   ]
  },
  {
   "cell_type": "code",
   "execution_count": 117,
   "id": "27f242c0",
   "metadata": {},
   "outputs": [],
   "source": [
    "# Renaming the category list column in mapping table to primary_sector to merge with the master frame dataset\n",
    "mapping = mapping.rename(columns={'category_list':'primary_sector'})"
   ]
  },
  {
   "cell_type": "code",
   "execution_count": 118,
   "id": "2403c924",
   "metadata": {},
   "outputs": [],
   "source": [
    "# Merging the master dataset with the mapping dataset to get the main sector information in the master frame dataset for the companies\n",
    "master_frame = master_frame.merge(mapping,how='left',on='primary_sector')"
   ]
  },
  {
   "cell_type": "code",
   "execution_count": 119,
   "id": "ea369364",
   "metadata": {},
   "outputs": [],
   "source": [
    "# Renaming the variable column in the master dataset to main_sector\n",
    "master_frame = master_frame.rename(columns={'variable':'main_sector'})"
   ]
  },
  {
   "cell_type": "code",
   "execution_count": 120,
   "id": "ce3f0e1e",
   "metadata": {},
   "outputs": [
    {
     "data": {
      "text/plain": [
       "607"
      ]
     },
     "execution_count": 120,
     "metadata": {},
     "output_type": "execute_result"
    }
   ],
   "source": [
    "# Find the number of unique primary sectors (Categories) in master_frame database\n",
    "master_frame['primary_sector'].nunique()"
   ]
  },
  {
   "cell_type": "code",
   "execution_count": 121,
   "id": "d8bf6dc5",
   "metadata": {},
   "outputs": [
    {
     "data": {
      "text/plain": [
       "687"
      ]
     },
     "execution_count": 121,
     "metadata": {},
     "output_type": "execute_result"
    }
   ],
   "source": [
    "# Find the number of unique categories in mapping dataset\n",
    "mapping['primary_sector'].nunique()"
   ]
  },
  {
   "cell_type": "code",
   "execution_count": 122,
   "id": "7938609a",
   "metadata": {},
   "outputs": [
    {
     "data": {
      "text/plain": [
       "9"
      ]
     },
     "execution_count": 122,
     "metadata": {},
     "output_type": "execute_result"
    }
   ],
   "source": [
    "# Find the number of unique sectors in mapping dataset\n",
    "mapping['variable'].nunique()"
   ]
  },
  {
   "cell_type": "markdown",
   "id": "cffa0114",
   "metadata": {},
   "source": [
    "##### It is to be noted that 'Blank' is also one sector in the above 9 Sectors. The main sectors are 8. The companies where no mapping were found are going to be dropped from further analysis datasets"
   ]
  },
  {
   "cell_type": "markdown",
   "id": "b8512f8c",
   "metadata": {},
   "source": [
    "#### 7. Top 3 English speaking countries analysis:"
   ]
  },
  {
   "cell_type": "markdown",
   "id": "371007af",
   "metadata": {},
   "source": [
    "##### Now we have the top three English speaking countries for the venture investment type. Let's create three subsets of master dataframe for each of these countries for further analysis"
   ]
  },
  {
   "cell_type": "markdown",
   "id": "b74aca49",
   "metadata": {},
   "source": [
    "#### Since we are analysing the eight main sectors distribution of investments, we are going to consider the eight main sectors only that are in the mapping table. So, we will drop the null and blank values in the main sector before proceeding with our sector analysis. Also, the amount bucket is in the range of 5 million to 15 million USD"
   ]
  },
  {
   "cell_type": "code",
   "execution_count": 123,
   "id": "4b2692d8",
   "metadata": {},
   "outputs": [],
   "source": [
    "#Country 1: Top English speaking country with most investments in venture\n",
    "D1 = master_frame[(master_frame['country_code'] == 'USA')&(master_frame['raised_amount_usd'] >= 5000000)&(master_frame['raised_amount_usd'] <= 15000000)]\n",
    "D1 = D1[~D1['main_sector'].isnull()]\n",
    "D1 = D1[D1['main_sector'] != 'Blanks']\n",
    "#Country 2: Second top English speaking country with most investments in venture\n",
    "D2 = master_frame[(master_frame['country_code'] == 'GBR')&(master_frame['raised_amount_usd'] >= 5000000)&(master_frame['raised_amount_usd'] <= 15000000)]\n",
    "D2 = D2[~D2['main_sector'].isnull()]\n",
    "D2 = D2[D2['main_sector'] != 'Blanks']\n",
    "#Country 3: Third top English speaking country with most investments in venture\n",
    "D3 = master_frame[(master_frame['country_code'] == 'IND')&(master_frame['raised_amount_usd'] >= 5000000)&(master_frame['raised_amount_usd'] <= 15000000)]\n",
    "D3 = D3[~D3['main_sector'].isnull()]\n",
    "D3 = D3[D3['main_sector'] != 'Blanks']"
   ]
  },
  {
   "cell_type": "code",
   "execution_count": 124,
   "id": "3930f0f8",
   "metadata": {},
   "outputs": [],
   "source": [
    "# Checking the counts and amounts of each countries\n",
    "usa_count = D1['funding_round_permalink'].count()\n",
    "gbr_count = D2['funding_round_permalink'].count()\n",
    "ind_count = D3['funding_round_permalink'].count()\n",
    "usa_amount_sum = D1['raised_amount_usd'].sum()\n",
    "gbr_amount_sum = D2['raised_amount_usd'].sum()\n",
    "ind_amount_sum = D3['raised_amount_usd'].sum()"
   ]
  },
  {
   "cell_type": "code",
   "execution_count": 125,
   "id": "6db3b911",
   "metadata": {
    "scrolled": true
   },
   "outputs": [
    {
     "name": "stdout",
     "output_type": "stream",
     "text": [
      "Total count of investment in USA is:  12063\n",
      "Total count of investment in GBR is:  621\n",
      "Total count of investment in IND is:  328\n",
      "\n",
      "Total amount of investment in USA is:  107757097294.0\n",
      "Total amount of investment in GBR is:  5379078691.0\n",
      "Total amount of investment in IND is:  2949543602.0\n"
     ]
    }
   ],
   "source": [
    "# Checking the counts and amounts of each countries\n",
    "print('Total count of investment in USA is: ', usa_count)\n",
    "print('Total count of investment in GBR is: ', gbr_count)\n",
    "print('Total count of investment in IND is: ', ind_count)\n",
    "#---------------------------------------------------------------------------------------------------------------\n",
    "print()\n",
    "print('Total amount of investment in USA is: ', usa_amount_sum)\n",
    "print('Total amount of investment in GBR is: ', gbr_amount_sum)\n",
    "print('Total amount of investment in IND is: ', ind_amount_sum)\n",
    "#---------------------------------------------------------------------------------------------------------------"
   ]
  },
  {
   "cell_type": "markdown",
   "id": "cc36f3a3",
   "metadata": {},
   "source": [
    "#### 8. Sector analysis:"
   ]
  },
  {
   "cell_type": "code",
   "execution_count": 126,
   "id": "8e15afa5",
   "metadata": {},
   "outputs": [
    {
     "data": {
      "text/plain": [
       "Others                                     2950\n",
       "Social, Finance, Analytics, Advertising    2714\n",
       "Cleantech / Semiconductors                 2350\n",
       "Name: main_sector, dtype: int64"
      ]
     },
     "execution_count": 126,
     "metadata": {},
     "output_type": "execute_result"
    }
   ],
   "source": [
    "# Top three sectors in USA that are heavily invested (Count based analysis)\n",
    "D1['main_sector'].value_counts().head(3)"
   ]
  },
  {
   "cell_type": "code",
   "execution_count": 127,
   "id": "2863818c",
   "metadata": {},
   "outputs": [
    {
     "data": {
      "text/plain": [
       "Others                                     147\n",
       "Social, Finance, Analytics, Advertising    133\n",
       "Cleantech / Semiconductors                 130\n",
       "Name: main_sector, dtype: int64"
      ]
     },
     "execution_count": 127,
     "metadata": {},
     "output_type": "execute_result"
    }
   ],
   "source": [
    "# Top three sectors in GBR that are heavily invested (Count based analysis)\n",
    "D2['main_sector'].value_counts().head(3)"
   ]
  },
  {
   "cell_type": "code",
   "execution_count": 128,
   "id": "f70a645a",
   "metadata": {
    "scrolled": false
   },
   "outputs": [
    {
     "data": {
      "text/plain": [
       "Others                                     110\n",
       "Social, Finance, Analytics, Advertising     60\n",
       "News, Search and Messaging                  52\n",
       "Name: main_sector, dtype: int64"
      ]
     },
     "execution_count": 128,
     "metadata": {},
     "output_type": "execute_result"
    }
   ],
   "source": [
    "# Top three sectors in IND that are heavily invested (Count based analysis)\n",
    "D3['main_sector'].value_counts().head(3)"
   ]
  },
  {
   "cell_type": "code",
   "execution_count": 129,
   "id": "cf3951d6",
   "metadata": {
    "scrolled": false
   },
   "outputs": [],
   "source": [
    "#Now let's find out the companies with the highest investment in USA in two of the most heavily invested sectors\n",
    "D11 = D1[D1.main_sector == 'Others'].groupby(by=['company_permalink','name','status'])['raised_amount_usd'].agg(['sum','count']).reset_index()\n",
    "D12 = D1[D1.main_sector == 'Social, Finance, Analytics, Advertising'].groupby(by=['company_permalink','name','status'])['raised_amount_usd'].agg(['sum','count']).reset_index()"
   ]
  },
  {
   "cell_type": "code",
   "execution_count": 130,
   "id": "e5c02d18",
   "metadata": {},
   "outputs": [],
   "source": [
    "#Now let's find out the companies with the highest investment in GBR in two of the most heavily invested sectors\n",
    "D22 = D2[D2.main_sector == 'Others'].groupby(by=['company_permalink','name','status'])['raised_amount_usd'].agg(['sum','count']).reset_index()\n",
    "D23 = D2[D2.main_sector == 'Social, Finance, Analytics, Advertising'].groupby(by=['company_permalink','name','status'])['raised_amount_usd'].agg(['sum','count']).reset_index()"
   ]
  },
  {
   "cell_type": "code",
   "execution_count": 131,
   "id": "a51f0573",
   "metadata": {},
   "outputs": [],
   "source": [
    "#Now let's find out the companies with the highest investment in IND in two of the most heavily invested sectors\n",
    "D33 = D3[D3.main_sector == 'Others'].groupby(by=['company_permalink','name','status'])['raised_amount_usd'].agg(['sum','count']).reset_index()\n",
    "D34 = D3[D3.main_sector == 'Social, Finance, Analytics, Advertising'].groupby(by=['company_permalink','name','status'])['raised_amount_usd'].agg(['sum','count']).reset_index()"
   ]
  },
  {
   "cell_type": "code",
   "execution_count": 132,
   "id": "1ed11208",
   "metadata": {
    "scrolled": true
   },
   "outputs": [
    {
     "name": "stdout",
     "output_type": "stream",
     "text": [
      "Company with the highest investment in most invested sector in USA : 1942    Virtustream\n",
      "Name: name, dtype: object\n",
      "Company with the highest investment in second most invested sector in USA : 1430    SST Inc. (Formerly ShotSpotter)\n",
      "Name: name, dtype: object\n",
      "Company with the highest investment in most invested sector in GBR : 35    Electric Cloud\n",
      "Name: name, dtype: object\n",
      "Company with the highest investment in second most invested sector in GBR : 21    Celltick Technologies\n",
      "Name: name, dtype: object\n",
      "Company with the highest investment in most invested sector in IND : 27    FirstCry.com\n",
      "Name: name, dtype: object\n",
      "Company with the highest investment in second most invested sector in IND : 31    Manthan Systems\n",
      "Name: name, dtype: object\n"
     ]
    }
   ],
   "source": [
    "#Company with the highest investment in most invested sector in USA\n",
    "print('Company with the highest investment in most invested sector in USA :',D11[D11['sum'] == D11['sum'].max()]['name'])\n",
    "#Company with the highest investment in second most invested sector in USA\n",
    "print('Company with the highest investment in second most invested sector in USA :',D12[D12['sum'] == D12['sum'].max()]['name'])\n",
    "#Company with the highest investment in most invested sector in GBR\n",
    "print('Company with the highest investment in most invested sector in GBR :',D22[D22['sum'] == D22['sum'].max()]['name'])\n",
    "#Company with the highest investment in second most invested sector in GBR\n",
    "print('Company with the highest investment in second most invested sector in GBR :',D23[D23['sum'] == D23['sum'].max()]['name'])\n",
    "#Company with the highest investment in most invested sector in IND\n",
    "print('Company with the highest investment in most invested sector in IND :',D33[D33['sum'] == D33['sum'].max()]['name'])\n",
    "#Company with the highest investment in second most invested sector in IND\n",
    "print('Company with the highest investment in second most invested sector in IND :',D34[D34['sum'] == D34['sum'].max()]['name'])"
   ]
  },
  {
   "cell_type": "code",
   "execution_count": 133,
   "id": "c670ce1a",
   "metadata": {
    "scrolled": true
   },
   "outputs": [
    {
     "data": {
      "text/html": [
       "<div>\n",
       "<style scoped>\n",
       "    .dataframe tbody tr th:only-of-type {\n",
       "        vertical-align: middle;\n",
       "    }\n",
       "\n",
       "    .dataframe tbody tr th {\n",
       "        vertical-align: top;\n",
       "    }\n",
       "\n",
       "    .dataframe thead th {\n",
       "        text-align: right;\n",
       "    }\n",
       "</style>\n",
       "<table border=\"1\" class=\"dataframe\">\n",
       "  <thead>\n",
       "    <tr style=\"text-align: right;\">\n",
       "      <th></th>\n",
       "      <th>company_permalink</th>\n",
       "      <th>name</th>\n",
       "      <th>status</th>\n",
       "      <th>sum</th>\n",
       "      <th>count</th>\n",
       "    </tr>\n",
       "  </thead>\n",
       "  <tbody>\n",
       "    <tr>\n",
       "      <th>1942</th>\n",
       "      <td>/organization/virtustream</td>\n",
       "      <td>Virtustream</td>\n",
       "      <td>acquired</td>\n",
       "      <td>64300000.0</td>\n",
       "      <td>6</td>\n",
       "    </tr>\n",
       "  </tbody>\n",
       "</table>\n",
       "</div>"
      ],
      "text/plain": [
       "              company_permalink         name    status         sum  count\n",
       "1942  /organization/virtustream  Virtustream  acquired  64300000.0      6"
      ]
     },
     "execution_count": 133,
     "metadata": {},
     "output_type": "execute_result"
    }
   ],
   "source": [
    "#Let's have a look at the company getting the most investment in USA in Others sector\n",
    "D11[D11['sum'] == D11['sum'].max()]"
   ]
  },
  {
   "cell_type": "code",
   "execution_count": 134,
   "id": "50623516",
   "metadata": {
    "scrolled": true
   },
   "outputs": [
    {
     "data": {
      "text/html": [
       "<div>\n",
       "<style scoped>\n",
       "    .dataframe tbody tr th:only-of-type {\n",
       "        vertical-align: middle;\n",
       "    }\n",
       "\n",
       "    .dataframe tbody tr th {\n",
       "        vertical-align: top;\n",
       "    }\n",
       "\n",
       "    .dataframe thead th {\n",
       "        text-align: right;\n",
       "    }\n",
       "</style>\n",
       "<table border=\"1\" class=\"dataframe\">\n",
       "  <thead>\n",
       "    <tr style=\"text-align: right;\">\n",
       "      <th></th>\n",
       "      <th>company_permalink</th>\n",
       "      <th>name</th>\n",
       "      <th>status</th>\n",
       "      <th>sum</th>\n",
       "      <th>count</th>\n",
       "    </tr>\n",
       "  </thead>\n",
       "  <tbody>\n",
       "    <tr>\n",
       "      <th>1430</th>\n",
       "      <td>/organization/shotspotter</td>\n",
       "      <td>SST Inc. (Formerly ShotSpotter)</td>\n",
       "      <td>operating</td>\n",
       "      <td>67933006.0</td>\n",
       "      <td>7</td>\n",
       "    </tr>\n",
       "  </tbody>\n",
       "</table>\n",
       "</div>"
      ],
      "text/plain": [
       "              company_permalink                             name     status  \\\n",
       "1430  /organization/shotspotter  SST Inc. (Formerly ShotSpotter)  operating   \n",
       "\n",
       "             sum  count  \n",
       "1430  67933006.0      7  "
      ]
     },
     "execution_count": 134,
     "metadata": {},
     "output_type": "execute_result"
    }
   ],
   "source": [
    "#Let's have a look at the company getting the most investment in USA in Social, Finance, Analytics, Advertising sector\n",
    "D12[D12['sum'] == D12['sum'].max()]"
   ]
  },
  {
   "cell_type": "code",
   "execution_count": 135,
   "id": "c4f54d70",
   "metadata": {},
   "outputs": [
    {
     "data": {
      "text/html": [
       "<div>\n",
       "<style scoped>\n",
       "    .dataframe tbody tr th:only-of-type {\n",
       "        vertical-align: middle;\n",
       "    }\n",
       "\n",
       "    .dataframe tbody tr th {\n",
       "        vertical-align: top;\n",
       "    }\n",
       "\n",
       "    .dataframe thead th {\n",
       "        text-align: right;\n",
       "    }\n",
       "</style>\n",
       "<table border=\"1\" class=\"dataframe\">\n",
       "  <thead>\n",
       "    <tr style=\"text-align: right;\">\n",
       "      <th></th>\n",
       "      <th>company_permalink</th>\n",
       "      <th>name</th>\n",
       "      <th>status</th>\n",
       "      <th>sum</th>\n",
       "      <th>count</th>\n",
       "    </tr>\n",
       "  </thead>\n",
       "  <tbody>\n",
       "    <tr>\n",
       "      <th>35</th>\n",
       "      <td>/organization/electric-cloud</td>\n",
       "      <td>Electric Cloud</td>\n",
       "      <td>operating</td>\n",
       "      <td>37000000.0</td>\n",
       "      <td>4</td>\n",
       "    </tr>\n",
       "  </tbody>\n",
       "</table>\n",
       "</div>"
      ],
      "text/plain": [
       "               company_permalink            name     status         sum  count\n",
       "35  /organization/electric-cloud  Electric Cloud  operating  37000000.0      4"
      ]
     },
     "execution_count": 135,
     "metadata": {},
     "output_type": "execute_result"
    }
   ],
   "source": [
    "#Let's have a look at the company getting the most investment in GBR in Others sector\n",
    "D22[D22['sum'] == D22['sum'].max()]"
   ]
  },
  {
   "cell_type": "code",
   "execution_count": 136,
   "id": "10e00b9b",
   "metadata": {},
   "outputs": [
    {
     "data": {
      "text/html": [
       "<div>\n",
       "<style scoped>\n",
       "    .dataframe tbody tr th:only-of-type {\n",
       "        vertical-align: middle;\n",
       "    }\n",
       "\n",
       "    .dataframe tbody tr th {\n",
       "        vertical-align: top;\n",
       "    }\n",
       "\n",
       "    .dataframe thead th {\n",
       "        text-align: right;\n",
       "    }\n",
       "</style>\n",
       "<table border=\"1\" class=\"dataframe\">\n",
       "  <thead>\n",
       "    <tr style=\"text-align: right;\">\n",
       "      <th></th>\n",
       "      <th>company_permalink</th>\n",
       "      <th>name</th>\n",
       "      <th>status</th>\n",
       "      <th>sum</th>\n",
       "      <th>count</th>\n",
       "    </tr>\n",
       "  </thead>\n",
       "  <tbody>\n",
       "    <tr>\n",
       "      <th>21</th>\n",
       "      <td>/organization/celltick-technologies</td>\n",
       "      <td>Celltick Technologies</td>\n",
       "      <td>operating</td>\n",
       "      <td>37500000.0</td>\n",
       "      <td>4</td>\n",
       "    </tr>\n",
       "  </tbody>\n",
       "</table>\n",
       "</div>"
      ],
      "text/plain": [
       "                      company_permalink                   name     status  \\\n",
       "21  /organization/celltick-technologies  Celltick Technologies  operating   \n",
       "\n",
       "           sum  count  \n",
       "21  37500000.0      4  "
      ]
     },
     "execution_count": 136,
     "metadata": {},
     "output_type": "execute_result"
    }
   ],
   "source": [
    "#Let's have a look at the company getting the most investment in GBR in Social, Finance, Analytics, Advertising sector\n",
    "D23[D23['sum'] == D23['sum'].max()]"
   ]
  },
  {
   "cell_type": "code",
   "execution_count": 137,
   "id": "d86f851a",
   "metadata": {},
   "outputs": [
    {
     "data": {
      "text/html": [
       "<div>\n",
       "<style scoped>\n",
       "    .dataframe tbody tr th:only-of-type {\n",
       "        vertical-align: middle;\n",
       "    }\n",
       "\n",
       "    .dataframe tbody tr th {\n",
       "        vertical-align: top;\n",
       "    }\n",
       "\n",
       "    .dataframe thead th {\n",
       "        text-align: right;\n",
       "    }\n",
       "</style>\n",
       "<table border=\"1\" class=\"dataframe\">\n",
       "  <thead>\n",
       "    <tr style=\"text-align: right;\">\n",
       "      <th></th>\n",
       "      <th>company_permalink</th>\n",
       "      <th>name</th>\n",
       "      <th>status</th>\n",
       "      <th>sum</th>\n",
       "      <th>count</th>\n",
       "    </tr>\n",
       "  </thead>\n",
       "  <tbody>\n",
       "    <tr>\n",
       "      <th>27</th>\n",
       "      <td>/organization/firstcry-com</td>\n",
       "      <td>FirstCry.com</td>\n",
       "      <td>operating</td>\n",
       "      <td>39000000.0</td>\n",
       "      <td>3</td>\n",
       "    </tr>\n",
       "  </tbody>\n",
       "</table>\n",
       "</div>"
      ],
      "text/plain": [
       "             company_permalink          name     status         sum  count\n",
       "27  /organization/firstcry-com  FirstCry.com  operating  39000000.0      3"
      ]
     },
     "execution_count": 137,
     "metadata": {},
     "output_type": "execute_result"
    }
   ],
   "source": [
    "#Let's have a look at the company getting the most investment in IND in Others sector\n",
    "D33[D33['sum'] == D33['sum'].max()]"
   ]
  },
  {
   "cell_type": "code",
   "execution_count": 138,
   "id": "43d6f454",
   "metadata": {},
   "outputs": [
    {
     "data": {
      "text/html": [
       "<div>\n",
       "<style scoped>\n",
       "    .dataframe tbody tr th:only-of-type {\n",
       "        vertical-align: middle;\n",
       "    }\n",
       "\n",
       "    .dataframe tbody tr th {\n",
       "        vertical-align: top;\n",
       "    }\n",
       "\n",
       "    .dataframe thead th {\n",
       "        text-align: right;\n",
       "    }\n",
       "</style>\n",
       "<table border=\"1\" class=\"dataframe\">\n",
       "  <thead>\n",
       "    <tr style=\"text-align: right;\">\n",
       "      <th></th>\n",
       "      <th>company_permalink</th>\n",
       "      <th>name</th>\n",
       "      <th>status</th>\n",
       "      <th>sum</th>\n",
       "      <th>count</th>\n",
       "    </tr>\n",
       "  </thead>\n",
       "  <tbody>\n",
       "    <tr>\n",
       "      <th>31</th>\n",
       "      <td>/organization/manthan-systems</td>\n",
       "      <td>Manthan Systems</td>\n",
       "      <td>operating</td>\n",
       "      <td>50700000.0</td>\n",
       "      <td>4</td>\n",
       "    </tr>\n",
       "  </tbody>\n",
       "</table>\n",
       "</div>"
      ],
      "text/plain": [
       "                company_permalink             name     status         sum  \\\n",
       "31  /organization/manthan-systems  Manthan Systems  operating  50700000.0   \n",
       "\n",
       "    count  \n",
       "31      4  "
      ]
     },
     "execution_count": 138,
     "metadata": {},
     "output_type": "execute_result"
    }
   ],
   "source": [
    "#Let's have a look at the company getting the most investment in IND in Social, Finance, Analytics, Advertising sector\n",
    "D34[D34['sum'] == D34['sum'].max()]"
   ]
  },
  {
   "cell_type": "code",
   "execution_count": 139,
   "id": "a2bc013b",
   "metadata": {
    "scrolled": false
   },
   "outputs": [
    {
     "data": {
      "image/png": "[encoded data removed]",
      "text/plain": [
       "<Figure size 792x216 with 1 Axes>"
      ]
     },
     "metadata": {
      "needs_background": "light"
     },
     "output_type": "display_data"
    }
   ],
   "source": [
    "# Graph plot showing investments across sectors in USA\n",
    "plt.figure(figsize=[11,3])\n",
    "sns.countplot(data=D1,y=\"main_sector\",palette=('viridis')).set_title('Distribution of number of investments across sectors')\n",
    "#plt.xticks(rotation = 75)\n",
    "plt.text(2880,7,'USA',fontsize = 18)\n",
    "plt.ylabel('Sectors')\n",
    "plt.xlabel('Count')\n",
    "plt.show()"
   ]
  },
  {
   "cell_type": "code",
   "execution_count": 140,
   "id": "308d5d48",
   "metadata": {
    "scrolled": false
   },
   "outputs": [
    {
     "data": {
      "image/png": "[encoded data removed]",
      "text/plain": [
       "<Figure size 792x216 with 1 Axes>"
      ]
     },
     "metadata": {
      "needs_background": "light"
     },
     "output_type": "display_data"
    }
   ],
   "source": [
    "# Graph plot showing investments across sectors in GBR\n",
    "plt.figure(figsize=[11,3])\n",
    "sns.countplot(data=D2,y=\"main_sector\",palette=('viridis')).set_title('Distribution of number of investments across sectors')\n",
    "plt.text(143,1,'GBR',fontsize = 18)\n",
    "plt.ylabel('Sectors')\n",
    "plt.xlabel('Count')\n",
    "plt.show()"
   ]
  },
  {
   "cell_type": "code",
   "execution_count": 141,
   "id": "f90edfaf",
   "metadata": {
    "scrolled": false
   },
   "outputs": [
    {
     "data": {
      "image/png": "[encoded data removed]",
      "text/plain": [
       "<Figure size 792x216 with 1 Axes>"
      ]
     },
     "metadata": {
      "needs_background": "light"
     },
     "output_type": "display_data"
    }
   ],
   "source": [
    "# Graph plot showing investments across sectors in IND\n",
    "plt.figure(figsize=[11,3])\n",
    "sns.countplot(data=D3,y=\"main_sector\",palette=('viridis')).set_title('Distribution of number of investments across sectors')\n",
    "plt.text(107,7,'IND',fontsize = 18)\n",
    "plt.ylabel('Sectors')\n",
    "plt.xlabel('Count')\n",
    "plt.show()"
   ]
  },
  {
   "cell_type": "code",
   "execution_count": 142,
   "id": "236fdef2",
   "metadata": {},
   "outputs": [
    {
     "data": {
      "image/png": "[encoded data removed]",
      "text/plain": [
       "<Figure size 1152x216 with 1 Axes>"
      ]
     },
     "metadata": {
      "needs_background": "light"
     },
     "output_type": "display_data"
    }
   ],
   "source": [
    "# Graph showing top 3 countries with their top 3 investment sectors\n",
    "D1U = D1[D1['main_sector'].isin(['Others','Social, Finance, Analytics, Advertising','Cleantech / Semiconductors'])]\n",
    "D2G = D2[D2['main_sector'].isin(['Others','Social, Finance, Analytics, Advertising','Cleantech / Semiconductors'])]\n",
    "D3I = D3[D3['main_sector'].isin(['Others','Social, Finance, Analytics, Advertising','News, Search and Messaging'])]\n",
    "DD3 = pd.concat([D1U,D2G,D3I])\n",
    "plt.figure(figsize=(16,3))\n",
    "sns.countplot(y='country_code', hue=\"main_sector\", data=DD3,palette=('viridis')).set_title('Distribution of number of investments for top 3 sectors in top 3 companies')\n",
    "plt.xlabel('Number of investments')\n",
    "plt.ylabel('Country')\n",
    "plt.show()"
   ]
  },
  {
   "cell_type": "markdown",
   "id": "d357e246",
   "metadata": {},
   "source": [
    "#### 9. Data quality analysis and assumptions:"
   ]
  },
  {
   "cell_type": "markdown",
   "id": "ead18953",
   "metadata": {},
   "source": [
    "##### The data in companies dataset has a considerable amount of null values for a few columns. Around 30% of the data do not have the column value for Founded date. More than 10% have null values in city, country code, region and state code. I dropped the null values as and when the analysis requirement demanded. There was another issue in the data, the case sensitivity. The key identifier in this dataframe is company permalink which has mixed cases. I modified the case to lower so that it can be one single case that can be keyed to another dataframe. In this case, it is the rounds2 dataset. "
   ]
  },
  {
   "cell_type": "markdown",
   "id": "c4baf07d",
   "metadata": {},
   "source": [
    "##### The data in the rounds2 dataset has also a large number of null values in some columns. The funding round code has more than 70% null values and the raised amount is also 17% null. I dropped the null values as and when the analysis requirement demanded. The case sensitive issue was in this dataframe as well for the key - company permalink. I changed it to lower case so that is can be mapped with the companies dataset and work on the analysis."
   ]
  },
  {
   "cell_type": "markdown",
   "id": "cb867c7a",
   "metadata": {},
   "source": [
    "##### The columns were not all required for our analysis. I joined the companies and rounds2 dataset to get all the columns according to a common key - company permalink. But for my targeted analysis, I needed to keep only a few columns and drop the rest. I kept the company permalink column because it is the key to a specific company and I needed it to analyse the data. I kept the funding round permalink column becasue it specifies the unique transactions for each raised amount for each company. This helped me in the counts analysis for each country or Industrial sector. I kept the funding round type to find the funding type most companies were interested in. I kept the raised amount to calculate the median and total values of amount raised, which was part of the analysis. The name column for company to check for the companies receiving the highest funds for a country and a sector. The category column to analyse the Industrial sector. The country code column to analyse the country.   "
   ]
  },
  {
   "cell_type": "markdown",
   "id": "c4a6d6b3",
   "metadata": {},
   "source": [
    "##### The mapping dataset had error in the category name. A few values were noticed having '0' in place of 'na' or 'Na'. These values were to be replaced for the mapping to the Industrial sectors. Also, at some places, the '0' was supposed to be there. Needed to make sure that not all '0's are getting replaced while correcting the value. It should be replaced only where there are incorrect values for the category."
   ]
  },
  {
   "cell_type": "code",
   "execution_count": null,
   "id": "abe000d5",
   "metadata": {},
   "outputs": [],
   "source": []
  }
 ],
 "metadata": {
  "kernelspec": {
   "display_name": "Python 3",
   "language": "python",
   "name": "python3"
  },
  "language_info": {
   "codemirror_mode": {
    "name": "ipython",
    "version": 3
   },
   "file_extension": ".py",
   "mimetype": "text/x-python",
   "name": "python",
   "nbconvert_exporter": "python",
   "pygments_lexer": "ipython3",
   "version": "3.8.8"
  }
 },
 "nbformat": 4,
 "nbformat_minor": 5
}
